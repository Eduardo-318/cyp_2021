{
  "nbformat": 4,
  "nbformat_minor": 0,
  "metadata": {
    "colab": {
      "name": "Tarea_3.ipynb",
      "provenance": [],
      "authorship_tag": "ABX9TyOxN8NRufm+7XZ8IUSZQLfe",
      "include_colab_link": true
    },
    "kernelspec": {
      "name": "python3",
      "display_name": "Python 3"
    }
  },
  "cells": [
    {
      "cell_type": "markdown",
      "metadata": {
        "id": "view-in-github",
        "colab_type": "text"
      },
      "source": [
        "<a href=\"https://colab.research.google.com/github/Eduardo-318/cyp_2021/blob/main/Tarea_3.ipynb\" target=\"_parent\"><img src=\"https://colab.research.google.com/assets/colab-badge.svg\" alt=\"Open In Colab\"/></a>"
      ]
    },
    {
      "cell_type": "code",
      "metadata": {
        "colab": {
          "base_uri": "https://localhost:8080/"
        },
        "id": "g5I_fQkzRNoM",
        "outputId": "91b16d5b-08d1-4941-9d6c-e726be852a17"
      },
      "source": [
        "PREPRO=0\n",
        "PAGO=0\n",
        "PREPRO=float(input(\"Precio del producto: $\"))\n",
        "print (\"Precio de $\",PREPRO, \",realice su pago\")\n",
        "PAGO=float(input(\"Cantidad pagada: $\"))\n",
        "A=PAGO-PREPRO\n",
        "print (\"Cambio devuelto: $\",A) \n"
      ],
      "execution_count": 38,
      "outputs": [
        {
          "output_type": "stream",
          "text": [
            "Precio del producto: $4.86\n",
            "Precio de $ 4.86 ,realice su pago\n",
            "Cantidad pagada: $50\n",
            "Cambio devuelto: $ 45.14\n"
          ],
          "name": "stdout"
        }
      ]
    },
    {
      "cell_type": "code",
      "metadata": {
        "colab": {
          "base_uri": "https://localhost:8080/"
        },
        "id": "LaNxUdr2T-SH",
        "outputId": "3f9bbec6-4588-46eb-aa35-3040015a29be"
      },
      "source": [
        "BASE=0\n",
        "ALTU=0\n",
        "print (\"Programa para calcular el área de un triángulo\")\n",
        "BASE=float(input(\"Dame el valor de la base: \"))\n",
        "ALTU=float(input(\"Ahora dame el valor de la altura: \"))\n",
        "SUP=(BASE*ALTU)/2\n",
        "print (\"El área total del triángulo es:\",SUP)"
      ],
      "execution_count": 49,
      "outputs": [
        {
          "output_type": "stream",
          "text": [
            "Programa para calcular el área de un triángulo\n",
            "Dame el valor de la base: 9.30\n",
            "Ahora dame el valor de la altura: 12.50\n",
            "El área total del triángulo es: 58.12500000000001\n"
          ],
          "name": "stdout"
        }
      ]
    },
    {
      "cell_type": "code",
      "metadata": {
        "colab": {
          "base_uri": "https://localhost:8080/"
        },
        "id": "8fZh6z-GW8bY",
        "outputId": "7c5a7668-5e32-4b89-c376-b640b75d0cf5"
      },
      "source": [
        "DINO=()\n",
        "PESO=0\n",
        "LON=0\n",
        "print (\"Convertidor de peso y longitud de dinosaurios\")\n",
        "DINO=input(\"Nombre del Dinosaurio: \")\n",
        "PESO=int(input(\"Danos el peso del dinosaurio en libras para transformar a kilos: \"))\n",
        "LON=int(input(\"Dame la longitud del dinosaurio en pies para transformar a metros: \"))\n",
        "PES=(PESO*0.453592)\n",
        "PIES=(LON*0.3047)\n",
        "print(\"El peso del dinosaurio\",DINO, \"en kilos es: \",PES)\n",
        "print (\"La longitud del dinosaurio\",DINO, \"de pies a metros es: \",PIES)"
      ],
      "execution_count": 61,
      "outputs": [
        {
          "output_type": "stream",
          "text": [
            "Convertidor de peso y longitud de dinosaurios\n",
            "Nombre del Dinosaurio: PINOCHO\n",
            "Danos el peso del dinosaurio en libras para transformar a kilos: 5\n",
            "Dame la longitud del dinosaurio en pies para transformar a metros: 30\n",
            "El peso del dinosaurio PINOCHO en kilos es:  2.26796\n",
            "La longitud del dinosaurio PINOCHO de pies a metros es:  9.141\n"
          ],
          "name": "stdout"
        }
      ]
    },
    {
      "cell_type": "code",
      "metadata": {
        "colab": {
          "base_uri": "https://localhost:8080/"
        },
        "id": "KBFD3jKNbsOV",
        "outputId": "5446941b-d775-4ea6-8a2b-2ae6e7350d5b"
      },
      "source": [
        "GAL=float(input(\"¿Cuántos galones de gasolina deposito? \"))\n",
        "PRECIO=(GAL*3.785*8.20)\n",
        "print (\"Total a pagar:$\",PRECIO)"
      ],
      "execution_count": 66,
      "outputs": [
        {
          "output_type": "stream",
          "text": [
            "¿Cuántos galones de gasolina deposito? 10.38\n",
            "Total a pagar:$ 322.16406\n"
          ],
          "name": "stdout"
        }
      ]
    },
    {
      "cell_type": "code",
      "metadata": {
        "colab": {
          "base_uri": "https://localhost:8080/"
        },
        "id": "TpdLA0VqdOAV",
        "outputId": "80e80b6f-a973-456c-d106-4f2cd58a085e"
      },
      "source": [
        "print(\"Calculadora para área y volumen de cilindros\")\n",
        "RADIO=0\n",
        "ALTU=0\n",
        "RADIO=float(input(\"Dame el valor del radio: \"))\n",
        "ALTU=float(input(\"Dame el valor de la altura: \"))\n",
        "VOL=(3.141592*RADIO**2)*ALTU\n",
        "AREA=(2*3.141592*RADIO)*ALTU\n",
        "print(\"El volumen del cilindro es: \",VOL)\n",
        "print(\"El área del cilindro es: \", AREA)"
      ],
      "execution_count": 69,
      "outputs": [
        {
          "output_type": "stream",
          "text": [
            "Calculadora para área y volumen de cilindros\n",
            "Dame el valor del radio: 45.22\n",
            "Dame el valor de la altura: 11.60\n",
            "El volumen del cilindro es:  74519.32074597248\n",
            "El área del cilindro es:  3295.856733568\n"
          ],
          "name": "stdout"
        }
      ]
    },
    {
      "cell_type": "code",
      "metadata": {
        "colab": {
          "base_uri": "https://localhost:8080/"
        },
        "id": "WpQ0WTWFf864",
        "outputId": "fee7d951-f000-497a-f8b8-833c64cd15af"
      },
      "source": [
        "print(\"Calculadora de cuantos segundos hay en los días\")\n",
        "DIAS=0\n",
        "DIAS=float(input(\"¿Cuál es el periodo de tiempo que desea conocer? \"))\n",
        "TOT=(DIAS*24*60*60)\n",
        "print(\"El total de segundos en \",DIAS, \"es: \",TOT)"
      ],
      "execution_count": 79,
      "outputs": [
        {
          "output_type": "stream",
          "text": [
            "Calculadora de cuantos segundos hay en los días\n",
            "¿Cuál es el periodo de tiempo que desea conocer? 7.8\n",
            "El total de segundos en  7.8 es:  673920.0\n"
          ],
          "name": "stdout"
        }
      ]
    }
  ]
}