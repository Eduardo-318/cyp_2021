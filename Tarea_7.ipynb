{
  "nbformat": 4,
  "nbformat_minor": 0,
  "metadata": {
    "colab": {
      "name": "Tarea_7.ipynb",
      "provenance": [],
      "authorship_tag": "ABX9TyMy38Jkd6QuotgxAbXMyI5J",
      "include_colab_link": true
    },
    "kernelspec": {
      "name": "python3",
      "display_name": "Python 3"
    }
  },
  "cells": [
    {
      "cell_type": "markdown",
      "metadata": {
        "id": "view-in-github",
        "colab_type": "text"
      },
      "source": [
        "<a href=\"https://colab.research.google.com/github/Eduardo-318/cyp_2021/blob/main/Tarea_7.ipynb\" target=\"_parent\"><img src=\"https://colab.research.google.com/assets/colab-badge.svg\" alt=\"Open In Colab\"/></a>"
      ]
    },
    {
      "cell_type": "code",
      "metadata": {
        "colab": {
          "base_uri": "https://localhost:8080/"
        },
        "id": "g91xzBd_fO6g",
        "outputId": "ae07dc40-231a-4294-ad7b-6c5d67b21569"
      },
      "source": [
        "total = int(input(\"¿Cuántos países quieres registar?: \"))\r\n",
        "qnorte, qcentro, qsur, aux, aux2 = 0, 0, 0, 0, 0\r\n",
        "while True:\r\n",
        "  qnorte = int(input(\"¿Cuántos países serán para América del norte?: \"))\r\n",
        "  qcentro = int(input(\"¿Cuántos países serán para Centro América ?: \"))\r\n",
        "  qsur = int(input(\"¿Cuántos países hay para America del Sur?: \"))\r\n",
        "  aux = qnorte + qcentro + qsur\r\n",
        "\r\n",
        "  if aux == total:\r\n",
        "    break;\r\n",
        "  elif aux < total:\r\n",
        "    print(\"La cantidad de países ingresada por regiones requiere mas paises.\")\r\n",
        "  elif aux > total:\r\n",
        "    print(\"La cantidad de países ingresada por regiones supera el limite.\")\r\n",
        "\r\n",
        "lpaises = [\"Norte\", \"Centro\", \"Sur\"]\r\n",
        "aux = 0\r\n",
        "pnorte = [str(0) for x in range(qnorte)]\r\n",
        "pcentro = [str(0) for x in range(qcentro)]\r\n",
        "psur = [str(0) for x in range(qsur)]\r\n",
        "ptotal = [str(0) for x in range(total)]\r\n",
        "\r\n",
        "for i in range(total):\r\n",
        "  ptotal[i] = str(input(f\"Ingresa el nombre del país numero  {aux+1} para la región {lpaises[aux2]} de América: \"))\r\n",
        "  aux += 1\r\n",
        "  if aux2 == 0:\r\n",
        "    if aux >= qnorte:\r\n",
        "      aux = 0\r\n",
        "      aux2 = 1\r\n",
        "    pnorte[aux] = ptotal[i]\r\n",
        "  elif aux2 == 1:\r\n",
        "    if aux >= qcentro:\r\n",
        "      aux = 0\r\n",
        "      aux2 = 2\r\n",
        "    pcentro[aux] = ptotal[i]\r\n",
        "  elif aux2 == 2:\r\n",
        "    if aux >= qsur:\r\n",
        "      aux = 0\r\n",
        "    psur[aux] = ptotal[i]\r\n",
        "\r\n",
        "print(f\"Norte: {sorted(pnorte)}\")\r\n",
        "print(f\"Centro: {sorted(pcentro)}\")\r\n",
        "print(f\"Sur: {sorted(psur)}\")\r\n",
        "print(f\"Todos: {sorted(ptotal)}\")"
      ],
      "execution_count": 1,
      "outputs": [
        {
          "output_type": "stream",
          "text": [
            "¿Cuántos países quieres registar?: 5\n",
            "¿Cuántos países serán para América del norte?: 3\n",
            "¿Cuántos países serán para Centro América ?: 1\n",
            "¿Cuántos países hay para America del Sur?: 1\n",
            "Ingresa el nombre del primer país1 para la región Norte de América: Canada\n",
            "Ingresa el nombre del primer país2 para la región Norte de América: Estados Unidos\n",
            "Ingresa el nombre del primer país3 para la región Norte de América: México\n",
            "Ingresa el nombre del primer país1 para la región Centro de América: Bélice\n",
            "Ingresa el nombre del primer país1 para la región Sur de América: Argentina\n",
            "Norte: ['Canada', 'Estados Unidos', 'México']\n",
            "Centro: ['Bélice']\n",
            "Sur: ['Argentina']\n",
            "Todos: ['Argentina', 'Bélice', 'Canada', 'Estados Unidos', 'México']\n"
          ],
          "name": "stdout"
        }
      ]
    }
  ]
}