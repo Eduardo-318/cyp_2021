{
  "nbformat": 4,
  "nbformat_minor": 0,
  "metadata": {
    "colab": {
      "name": "28_Ene_CyP.ipynb",
      "provenance": [],
      "authorship_tag": "ABX9TyNto1puzQzUpT4pcJyu3xVO",
      "include_colab_link": true
    },
    "kernelspec": {
      "name": "python3",
      "display_name": "Python 3"
    }
  },
  "cells": [
    {
      "cell_type": "markdown",
      "metadata": {
        "id": "view-in-github",
        "colab_type": "text"
      },
      "source": [
        "<a href=\"https://colab.research.google.com/github/Eduardo-318/cyp_2021/blob/main/28_Ene_CyP.ipynb\" target=\"_parent\"><img src=\"https://colab.research.google.com/assets/colab-badge.svg\" alt=\"Open In Colab\"/></a>"
      ]
    },
    {
      "cell_type": "markdown",
      "metadata": {
        "id": "i-tth3MkBugZ"
      },
      "source": [
        "#Tuplas\r\n",
        "\r\n",
        "- Tipo de dato lineal, estructura de datos\r\n",
        "- No mutable\r\n",
        "- Se puede contener de 0 a n elementos\r\n",
        "- Se declara con '(' y ')'\r\n",
        "- No puedes agregar ni eliminar elementos\r\n",
        "- Pueden ser anidadas las tuplas\r\n",
        "-Los argumentos a una función son enviadas como tuplas"
      ]
    },
    {
      "cell_type": "code",
      "metadata": {
        "colab": {
          "base_uri": "https://localhost:8080/"
        },
        "id": "zHt0DQVjCOHN",
        "outputId": "691430f0-f570-427e-d146-f0e429b8689d"
      },
      "source": [
        "frutas=('Sandia','Melón','Limón','Mango')\r\n",
        "print(frutas)\r\n",
        "print(frutas[1:3:1])\r\n",
        "print(frutas.count('Melón'))\r\n",
        "\r\n",
        "#¿Pa que se usan?\r\n",
        "conexion=('132.248.12.12',3306,'cyp_bd','usr_test', '1234dios')\r\n",
        "\r\n",
        "print(f\"Usuario: {conexion[3]} y pasword: {conexion[4]}\")"
      ],
      "execution_count": 9,
      "outputs": [
        {
          "output_type": "stream",
          "text": [
            "('Sandia', 'Melón', 'Limón', 'Mango')\n",
            "('Melón', 'Limón')\n",
            "1\n",
            "Usuario: usr_test y pasword: 1234dios\n"
          ],
          "name": "stdout"
        }
      ]
    },
    {
      "cell_type": "code",
      "metadata": {
        "colab": {
          "base_uri": "https://localhost:8080/"
        },
        "id": "fzUwOvIDDWnv",
        "outputId": "8d7fbbaf-f3c6-479b-9bc7-94a42e2e4cd5"
      },
      "source": [
        "print(dir(frutas))"
      ],
      "execution_count": 6,
      "outputs": [
        {
          "output_type": "stream",
          "text": [
            "['__add__', '__class__', '__contains__', '__delattr__', '__dir__', '__doc__', '__eq__', '__format__', '__ge__', '__getattribute__', '__getitem__', '__getnewargs__', '__gt__', '__hash__', '__init__', '__init_subclass__', '__iter__', '__le__', '__len__', '__lt__', '__mul__', '__ne__', '__new__', '__reduce__', '__reduce_ex__', '__repr__', '__rmul__', '__setattr__', '__sizeof__', '__str__', '__subclasshook__', 'count', 'index']\n"
          ],
          "name": "stdout"
        }
      ]
    },
    {
      "cell_type": "markdown",
      "metadata": {
        "id": "j4ONT75gFvIX"
      },
      "source": [
        "#Diccionarios\r\n",
        "-Estructura de datos semi lineal\r\n",
        "- Formada por pares, llave - valor.\r\n",
        "- Equivalentes al tipo de dato JSON, de JavaScript\r\n",
        "- Utiliza organización por funcion de dispersión.\r\n",
        "- Se declara con los elementos '{' y '}'\r\n",
        "- El selector usa valores de tipo strong(llave)\r\n",
        "- No se puede seleccionar por offset\r\n",
        "- Son mutables "
      ]
    },
    {
      "cell_type": "code",
      "metadata": {
        "colab": {
          "base_uri": "https://localhost:8080/"
        },
        "id": "5bq34aaVHAfa",
        "outputId": "b5817d5d-10cc-4d07-a7d3-4b6ffa05b296"
      },
      "source": [
        "alumno={'nombre': 'Juan Pérez', 'edad':18}\r\n",
        "print(alumno)\r\n",
        "print(alumno['nombre'])"
      ],
      "execution_count": 12,
      "outputs": [
        {
          "output_type": "stream",
          "text": [
            "{'nombre': 'Juan Pérez', 'edad': 18}\n",
            "Juan Pérez\n"
          ],
          "name": "stdout"
        }
      ]
    },
    {
      "cell_type": "code",
      "metadata": {
        "colab": {
          "base_uri": "https://localhost:8080/"
        },
        "id": "BYupf55zLdnm",
        "outputId": "d202ebc6-6948-439b-d81d-d8a70b8a1225"
      },
      "source": [
        "alumno = {'nombre':'Juan Pérez','edad':18,'altura':1.71,'estatus':'Aprobado','numeros':[555645902, 55326372]}\r\n",
        "print(alumno)\r\n",
        "print( alumno ['numeros'])\r\n",
        "print(f\"Celular del alumno: {alumno['numeros'][0]}\")"
      ],
      "execution_count": 13,
      "outputs": [
        {
          "output_type": "stream",
          "text": [
            "{'nombre': 'Juan Pérez', 'edad': 18, 'altura': 1.71, 'estatus': 'Aprobado', 'numeros': [555645902, 55326372]}\n",
            "[555645902, 55326372]\n",
            "Celular del alumno: 555645902\n"
          ],
          "name": "stdout"
        }
      ]
    },
    {
      "cell_type": "code",
      "metadata": {
        "colab": {
          "base_uri": "https://localhost:8080/"
        },
        "id": "EHwVeybDMsHN",
        "outputId": "12652133-bb78-45fc-8f0b-6ac96c63012e"
      },
      "source": [
        "materia = [\"Algebra\", \"Computadoras y Programacion\", \"Calculo Diferencial e Integral\", \"Introduccion a la Ingenieria\", \"Geometria Analitica\"]\r\n",
        "alumno = {\"ID\" : (123456789), \"Nombre\" : \"Yael\", \"Apellido\" : \"Castillo\", \"Edad\" : 20, \"Escuela\" : \"FES Aragon\", \"Materia\" : materia}\r\n",
        "for i in alumno:\r\n",
        "    print(f\"Clave: {i} - Valor: {alumno[i]}\")"
      ],
      "execution_count": 14,
      "outputs": [
        {
          "output_type": "stream",
          "text": [
            "Clave: ID - Valor: 123456789\n",
            "Clave: Nombre - Valor: Yael\n",
            "Clave: Apellido - Valor: Castillo\n",
            "Clave: Edad - Valor: 20\n",
            "Clave: Escuela - Valor: FES Aragon\n",
            "Clave: Materia - Valor: ['Algebra', 'Computadoras y Programacion', 'Calculo Diferencial e Integral', 'Introduccion a la Ingenieria', 'Geometria Analitica']\n"
          ],
          "name": "stdout"
        }
      ]
    },
    {
      "cell_type": "code",
      "metadata": {
        "colab": {
          "base_uri": "https://localhost:8080/"
        },
        "id": "3zmh1ovnMw0b",
        "outputId": "70a69453-faa0-49ad-f9c2-f3c086a5af6a"
      },
      "source": [
        "#  kareli\r\n",
        "alumno = {    'nombre'  : 'Juan Pérez'  ,\r\n",
        "          'edad' : 18, \r\n",
        "          'Matricula': 312193,\r\n",
        "          'calificaciones' : {'Mate': 8 , 'ciencias': 9, 'ingles': 8 },\r\n",
        "          'aprovado' : True,\r\n",
        "          'direccion': {\r\n",
        "                        'calle':'Rancho seco',\r\n",
        "                        'numero': 's/n',\r\n",
        "                        'colonia': 'impulsora popular avicola',\r\n",
        "                        'municipio': 'Mi-nezota',\r\n",
        "                        'estado':{\r\n",
        "                                   'clave':15,\r\n",
        "                                   'nombre_clave':'MEX',\r\n",
        "                                   'nombre':\"Estado de México\"\r\n",
        "                                  }\r\n",
        "                       }\r\n",
        "          }\r\n",
        "print(alumno)\r\n",
        "print(alumno['nombre'])\r\n",
        "print(alumno['calificaciones'])\r\n",
        "\r\n",
        "print(alumno['calificaciones']['ciencias'])\r\n",
        "\r\n",
        "print(alumno['nombre'].upper)"
      ],
      "execution_count": 49,
      "outputs": [
        {
          "output_type": "stream",
          "text": [
            "{'nombre': 'Juan Pérez', 'edad': 18, 'Matricula': 312193, 'calificaciones': {'Mate': 8, 'ciencias': 9, 'ingles': 8}, 'aprovado': True, 'direccion': {'calle': 'Rancho seco', 'numero': 's/n', 'colonia': 'impulsora popular avicola', 'municipio': 'Mi-nezota', 'estado': {'clave': 15, 'nombre_clave': 'MEX', 'nombre': 'Estado de México'}}}\n",
            "Juan Pérez\n",
            "{'Mate': 8, 'ciencias': 9, 'ingles': 8}\n",
            "9\n",
            "<built-in method upper of str object at 0x7f47d5a38df0>\n"
          ],
          "name": "stdout"
        }
      ]
    },
    {
      "cell_type": "code",
      "metadata": {
        "colab": {
          "base_uri": "https://localhost:8080/"
        },
        "id": "oT6d0ExIVNoT",
        "outputId": "ae89b538-6250-4c3f-8dc2-ca1d2d76d508"
      },
      "source": [
        "funciones =dir(dict)\r\n",
        "for funcion in funciones:\r\n",
        "  print(funcion)"
      ],
      "execution_count": 33,
      "outputs": [
        {
          "output_type": "stream",
          "text": [
            "__class__\n",
            "__contains__\n",
            "__delattr__\n",
            "__delitem__\n",
            "__dir__\n",
            "__doc__\n",
            "__eq__\n",
            "__format__\n",
            "__ge__\n",
            "__getattribute__\n",
            "__getitem__\n",
            "__gt__\n",
            "__hash__\n",
            "__init__\n",
            "__init_subclass__\n",
            "__iter__\n",
            "__le__\n",
            "__len__\n",
            "__lt__\n",
            "__ne__\n",
            "__new__\n",
            "__reduce__\n",
            "__reduce_ex__\n",
            "__repr__\n",
            "__setattr__\n",
            "__setitem__\n",
            "__sizeof__\n",
            "__str__\n",
            "__subclasshook__\n",
            "clear\n",
            "copy\n",
            "fromkeys\n",
            "get\n",
            "items\n",
            "keys\n",
            "pop\n",
            "popitem\n",
            "setdefault\n",
            "update\n",
            "values\n"
          ],
          "name": "stdout"
        }
      ]
    },
    {
      "cell_type": "markdown",
      "metadata": {
        "id": "YeY0kD1GVsHE"
      },
      "source": [
        "#Manipulacion de los pares llave valor.\r\n",
        "Para ello se emplean los metodos:\r\n",
        "- keys() te regresa una tupla con los strings llave del diccionario.\r\n",
        "- values() te regresa solo los valores\r\n",
        "- items() te regresa los pares"
      ]
    },
    {
      "cell_type": "code",
      "metadata": {
        "colab": {
          "base_uri": "https://localhost:8080/"
        },
        "id": "U1yHv4ZjWIc1",
        "outputId": "e3e4d9bf-6846-4880-caf5-35b1a2ab1aa6"
      },
      "source": [
        "print(alumno)\r\n",
        "llaves= alumno.keys()\r\n",
        "print(llaves)\r\n",
        "for elem in llaves:\r\n",
        "  print(elem)\r\n",
        "  print(alumno[elem])\r\n",
        "  #print(help(llaves))\r\n",
        "\r\n",
        "\r\n",
        "#manipular los valores\r\n",
        "valores= alumno.values()\r\n",
        "print(valores)\r\n",
        "print(\".-.-.-\")\r\n",
        "for val in valores:\r\n",
        "  print(val)\r\n",
        "\r\n",
        "#manipular pares\r\n",
        "pares=alumno.items()\r\n",
        "print(\".-.-.-.-.-..-.-.-.-.-.-\")\r\n",
        "print(pares)\r\n",
        "for par in pares:\r\n",
        "  print(par)"
      ],
      "execution_count": 48,
      "outputs": [
        {
          "output_type": "stream",
          "text": [
            "{'nombre': 'Juan Pérez', 'edad': 18, 'Matricula': 312193, 'calificaciones': {'Mate': 8, 'ciencias': 9, 'ingles': 8}, 'aprovado': True}\n",
            "dict_keys(['nombre', 'edad', 'Matricula', 'calificaciones', 'aprovado'])\n",
            "nombre\n",
            "Juan Pérez\n",
            "edad\n",
            "18\n",
            "Matricula\n",
            "312193\n",
            "calificaciones\n",
            "{'Mate': 8, 'ciencias': 9, 'ingles': 8}\n",
            "aprovado\n",
            "True\n",
            "dict_values(['Juan Pérez', 18, 312193, {'Mate': 8, 'ciencias': 9, 'ingles': 8}, True])\n",
            ".-.-.-\n",
            "Juan Pérez\n",
            "18\n",
            "312193\n",
            "{'Mate': 8, 'ciencias': 9, 'ingles': 8}\n",
            "True\n",
            ".-.-.-.-.-..-.-.-.-.-.-\n",
            "dict_items([('nombre', 'Juan Pérez'), ('edad', 18), ('Matricula', 312193), ('calificaciones', {'Mate': 8, 'ciencias': 9, 'ingles': 8}), ('aprovado', True)])\n",
            "('nombre', 'Juan Pérez')\n",
            "('edad', 18)\n",
            "('Matricula', 312193)\n",
            "('calificaciones', {'Mate': 8, 'ciencias': 9, 'ingles': 8})\n",
            "('aprovado', True)\n"
          ],
          "name": "stdout"
        }
      ]
    },
    {
      "cell_type": "code",
      "metadata": {
        "colab": {
          "base_uri": "https://localhost:8080/"
        },
        "id": "mRzLtDWnWVbB",
        "outputId": "43768b8c-b632-485a-a669-edf8f018f08a"
      },
      "source": [
        "print(help(dict.keys))"
      ],
      "execution_count": 35,
      "outputs": [
        {
          "output_type": "stream",
          "text": [
            "Help on method_descriptor:\n",
            "\n",
            "keys(...)\n",
            "    D.keys() -> a set-like object providing a view on D's keys\n",
            "\n",
            "None\n"
          ],
          "name": "stdout"
        }
      ]
    }
  ]
}