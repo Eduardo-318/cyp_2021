{
  "nbformat": 4,
  "nbformat_minor": 0,
  "metadata": {
    "colab": {
      "name": "14_Enero_2021_CyP.ipynb",
      "provenance": [],
      "authorship_tag": "ABX9TyOHewGoHJlFaVjz8b5mzRrF",
      "include_colab_link": true
    },
    "kernelspec": {
      "name": "python3",
      "display_name": "Python 3"
    }
  },
  "cells": [
    {
      "cell_type": "markdown",
      "metadata": {
        "id": "view-in-github",
        "colab_type": "text"
      },
      "source": [
        "<a href=\"https://colab.research.google.com/github/Eduardo-318/cyp_2021/blob/main/14_Enero_2021_CyP.ipynb\" target=\"_parent\"><img src=\"https://colab.research.google.com/assets/colab-badge.svg\" alt=\"Open In Colab\"/></a>"
      ]
    },
    {
      "cell_type": "markdown",
      "metadata": {
        "id": "sQXhIVe65kBh"
      },
      "source": [
        "###Palabras reservadas de Python 3\r\n",
        "1. False\r\n",
        "1. None\r\n",
        "1. True\r\n",
        "1. and\r\n",
        "1. as\r\n",
        "1. assert\r\n",
        "1. break\r\n",
        "1. class\r\n",
        "1. continue\r\n",
        "1. def\r\n",
        "1. del\r\n",
        "1. elif\r\n",
        "1. else\r\n",
        "1. except\r\n",
        "1. finally\r\n",
        "1. for\r\n",
        "1. from\r\n",
        "1. global\r\n",
        "1. if\r\n",
        "1. import\r\n",
        "1. in\r\n",
        "1. is\r\n",
        "1. lambda\r\n",
        "1. nonlocal\r\n",
        "1. not\r\n",
        "1. or\r\n",
        "1. pass\r\n",
        "1. raise\r\n",
        "1. return\r\n",
        "1. try\r\n",
        "1. while\r\n",
        "1. with\r\n",
        "1. yield"
      ]
    },
    {
      "cell_type": "code",
      "metadata": {
        "colab": {
          "base_uri": "https://localhost:8080/"
        },
        "id": "FMHXFl1-5d2O",
        "outputId": "eb0ee1f3-2fca-42f5-ec24-b717a8e5699e"
      },
      "source": [
        "import keyword\r\n",
        "pr = keyword.kwlist\r\n",
        "print( len(pr))\r\n",
        "for palabra in pr:\r\n",
        "  print(\"1.\",palabra)"
      ],
      "execution_count": 10,
      "outputs": [
        {
          "output_type": "stream",
          "text": [
            "33\n",
            "1. False\n",
            "1. None\n",
            "1. True\n",
            "1. and\n",
            "1. as\n",
            "1. assert\n",
            "1. break\n",
            "1. class\n",
            "1. continue\n",
            "1. def\n",
            "1. del\n",
            "1. elif\n",
            "1. else\n",
            "1. except\n",
            "1. finally\n",
            "1. for\n",
            "1. from\n",
            "1. global\n",
            "1. if\n",
            "1. import\n",
            "1. in\n",
            "1. is\n",
            "1. lambda\n",
            "1. nonlocal\n",
            "1. not\n",
            "1. or\n",
            "1. pass\n",
            "1. raise\n",
            "1. return\n",
            "1. try\n",
            "1. while\n",
            "1. with\n",
            "1. yield\n"
          ],
          "name": "stdout"
        }
      ]
    },
    {
      "cell_type": "markdown",
      "metadata": {
        "id": "JTs4eAN768Wr"
      },
      "source": [
        "##Variable\r\n",
        "Es un espacio de memoria de la computadora para almacenar valores que cambian a lo largo de la ejecución del programa. Este espacio de memoria esta referenciad por un identificador, el cual tiene ciertas reglas de nombrado.\r\n",
        "-No debe ser igual a alguna de las palabras reservadas.\r\n",
        "-Puede iniciar con _\r\n",
        "-Evitar nombres de variables largos\r\n",
        "-Evitar muy cortos, ejemplo x,y,i\r\n",
        "-Usar notación snake_case"
      ]
    },
    {
      "cell_type": "code",
      "metadata": {
        "colab": {
          "base_uri": "https://localhost:8080/"
        },
        "id": "ZJh2WLvz7tQc",
        "outputId": "b9518261-51a9-42d4-9380-0c5de355c97c"
      },
      "source": [
        "edad=12\r\n",
        "print(edad)"
      ],
      "execution_count": 12,
      "outputs": [
        {
          "output_type": "stream",
          "text": [
            "12\n"
          ],
          "name": "stdout"
        }
      ]
    },
    {
      "cell_type": "code",
      "metadata": {
        "id": "6YMkEC8Y9REn"
      },
      "source": [
        "\"\"\"\r\n",
        "La notacion snake_case consta de formar el identificador de variables  \r\n",
        "separando las palabras del mismo con un guion bajo.\r\n",
        "\r\n",
        "Se recomienda que los identificadores se escriban en minusculas para las variables \r\n",
        "y en mayusculas para las constantes.\r\n",
        "\r\n",
        "Es decir si tenemos una variable para los dias de la semana, se escribiria así_\r\n",
        "dias_de_la_semana= 7\r\n",
        "dias_mes= 31\r\n",
        "limite_maximo= 100\r\n",
        "\"\"\""
      ],
      "execution_count": null,
      "outputs": []
    },
    {
      "cell_type": "markdown",
      "metadata": {
        "id": "zQbBpPcg979q"
      },
      "source": [
        "##Tipos de datos \r\n",
        "- Numéricos\r\n",
        "  - int 4 bytes (1,2,23454, etc.)\r\n",
        "  - float 4 bytes (1.14, 3.1416, 1.0)\r\n",
        "  - long 8 bytes (1,2,23454, etc)\r\n",
        "  - complex 3+2j (raices negativas)\r\n",
        "- Boolean: true o false\r\n",
        "- string cadenas de caracteres(\"cad\",'cad' o \"\"\"cad\"\"\")\r\n",
        "- listas ([1,2,3,4], [a,b,c,d])\r\n",
        "- tuplas (edad 22,24)"
      ]
    },
    {
      "cell_type": "markdown",
      "metadata": {
        "id": "spGGGEAhGnUE"
      },
      "source": [
        "#String como arreglo\r\n",
        "Un string en python es almacenado como el tipo de dato (estructura de datos) arreglo.\r\n",
        "Por ejemplo la declaracion:\r\n",
        "nomnre =Jesús\r\n",
        "El elemento \"J\" es almacenado en un arreglo en la posición 0.\r\n",
        "La e esta en la posicion 1.\r\n"
      ]
    },
    {
      "cell_type": "code",
      "metadata": {
        "colab": {
          "base_uri": "https://localhost:8080/"
        },
        "id": "a5m1LzmtGJ1j",
        "outputId": "81305780-c99e-40f4-cc14-079fe5368ded"
      },
      "source": [
        "\r\n",
        "nombre= 'Jesús'\r\n",
        "print(nombre)\r\n",
        "print(nombre[0])"
      ],
      "execution_count": 13,
      "outputs": [
        {
          "output_type": "stream",
          "text": [
            "Jesús\n",
            "J\n"
          ],
          "name": "stdout"
        }
      ]
    },
    {
      "cell_type": "markdown",
      "metadata": {
        "id": "DgqhJCg9Hj8w"
      },
      "source": [
        "#Iterar sobre un String\r\n",
        "\r\n",
        "Se puede iterar sobre un string con un for de la forma siguien\r\n",
        "```\r\n",
        "for letra in range( len(nombre) ):\r\n",
        "  print(letra)"
      ]
    },
    {
      "cell_type": "code",
      "metadata": {
        "colab": {
          "base_uri": "https://localhost:8080/"
        },
        "id": "k-yKpSezIuvZ",
        "outputId": "e4cc9305-e59c-473c-d77e-650c4ac21a93"
      },
      "source": [
        "for indice in range( len(nombre)):\r\n",
        "  print( indice, end= \"\")\r\n",
        "  print(nombre[indice])"
      ],
      "execution_count": 14,
      "outputs": [
        {
          "output_type": "stream",
          "text": [
            "0J\n",
            "1e\n",
            "2s\n",
            "3ú\n",
            "4s\n"
          ],
          "name": "stdout"
        }
      ]
    },
    {
      "cell_type": "markdown",
      "metadata": {
        "id": "ixwsg6O8Kb1l"
      },
      "source": [
        "##Funcion range(inicio,stop,incremento)\r\n",
        "El inicio es opcional y por defecto tiene el valor 0\r\n",
        "El incremento tambien es opcional y por defecto es 1\r\n"
      ]
    },
    {
      "cell_type": "code",
      "metadata": {
        "colab": {
          "base_uri": "https://localhost:8080/"
        },
        "id": "UJo-5xyRKq55",
        "outputId": "56fa8a70-66b1-472a-858b-738e105ebc05"
      },
      "source": [
        "for indice in range( 4, -1, -1):\r\n",
        "  print(nombre[indice])"
      ],
      "execution_count": 17,
      "outputs": [
        {
          "output_type": "stream",
          "text": [
            "s\n",
            "ú\n",
            "s\n",
            "e\n",
            "J\n"
          ],
          "name": "stdout"
        }
      ]
    },
    {
      "cell_type": "markdown",
      "metadata": {
        "id": "foErCFzzMBaF"
      },
      "source": [
        "#Strings e indexado negativo\r\n",
        "En python 3 se agrega una nueva caracteristicas a los arreglos de las cadenas de caracteres, esta consta de la capacidad de indexar de forma negativa.\r\n",
        "\r\n",
        "La logica es la siguiente.\r\n",
        "\r\n",
        "El ultimo elemento se le considera como índice (ALTARNATIVO) -1, con lo cual se podría referenciar el final de la cadena sin la necesidad de saber el tamaño de la misma\r\n",
        "```\r\n",
        "nombre= 'Eduardo'\r\n",
        "\r\n",
        "indice normal 0 1 2 3 4 5 6 \r\n",
        "              E d u a r d o\r\n",
        "indice alter. -7 -6 -5 -4 -3 -2 -1\r\n",
        "              E  d   u  a  r  d  o\r\n",
        "```"
      ]
    },
    {
      "cell_type": "code",
      "metadata": {
        "colab": {
          "base_uri": "https://localhost:8080/"
        },
        "id": "d0_MtG49Mm-n",
        "outputId": "109eb2be-c6a5-42a1-ef06-0efc0123c6f1"
      },
      "source": [
        "nombre= \"Eduardo\"\r\n",
        "print( nombre[6] )\r\n",
        "print( nombre[-1])\r\n",
        "print(\"\")\r\n",
        "for indice_alter in range(-1,-6,-1):\r\n",
        "  print( nombre[indice_alter])"
      ],
      "execution_count": 21,
      "outputs": [
        {
          "output_type": "stream",
          "text": [
            "o\n",
            "o\n",
            "\n",
            "o\n",
            "d\n",
            "r\n",
            "a\n",
            "u\n"
          ],
          "name": "stdout"
        }
      ]
    },
    {
      "cell_type": "markdown",
      "metadata": {
        "id": "zChYjpBRQSA_"
      },
      "source": [
        "#Slicing de cadenas de caracteres\r\n",
        "\r\n",
        "Esta caracteristica permite sacar secciones de una cadena con la siguiente sintaxis:\r\n",
        "```\r\n",
        "[inicio:stop:incremento]\r\n",
        "```\r\n",
        "donde inicio e incremento son opcionales y tambien soportan indexado alternativo(negativos)\r\n"
      ]
    },
    {
      "cell_type": "code",
      "metadata": {
        "colab": {
          "base_uri": "https://localhost:8080/"
        },
        "id": "oE8nD64qQ0cp",
        "outputId": "88faadbf-0c82-4543-9dd3-00e7fd0fa2b4"
      },
      "source": [
        "facultad =\"Facultad de Estudios Superiores Aragón (La mejor)\"\r\n",
        "\r\n",
        "print(facultad)\r\n",
        "for indice in range( 12,20,1):\r\n",
        "  print(facultad[indice], end=\"\")\r\n",
        " \r\n",
        "  #hacer esto mismo con la caracteristica Slicing se logra así:\r\n",
        "print(\"\\nCon Slicing\")\r\n",
        "print( facultad[12:20:2])\r\n",
        "\r\n",
        "#la palabra \"de\" con slicing\r\n",
        "\r\n",
        "print(facultad[9:11:1])"
      ],
      "execution_count": 32,
      "outputs": [
        {
          "output_type": "stream",
          "text": [
            "Facultad de Estudios Superiores Aragón (La mejor)\n",
            "Estudios\n",
            "Con Slicing\n",
            "Etdo\n",
            "de\n"
          ],
          "name": "stdout"
        }
      ]
    }
  ]
}