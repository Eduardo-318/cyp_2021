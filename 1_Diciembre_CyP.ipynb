{
  "nbformat": 4,
  "nbformat_minor": 0,
  "metadata": {
    "colab": {
      "name": "1_Diciembre_CyP.ipynb",
      "provenance": [],
      "authorship_tag": "ABX9TyM7uOX8mFC3FYVviVwLFKf0",
      "include_colab_link": true
    },
    "kernelspec": {
      "name": "python3",
      "display_name": "Python 3"
    }
  },
  "cells": [
    {
      "cell_type": "markdown",
      "metadata": {
        "id": "view-in-github",
        "colab_type": "text"
      },
      "source": [
        "<a href=\"https://colab.research.google.com/github/Eduardo-318/cyp_2021/blob/main/1_Diciembre_CyP.ipynb\" target=\"_parent\"><img src=\"https://colab.research.google.com/assets/colab-badge.svg\" alt=\"Open In Colab\"/></a>"
      ]
    },
    {
      "cell_type": "code",
      "metadata": {
        "colab": {
          "base_uri": "https://localhost:8080/"
        },
        "id": "aGV9epeuS6Fw",
        "outputId": "28a5e8c7-660e-43f8-fd3d-339a55d42841"
      },
      "source": [
        "numero1=int(input(\"Introduce el primer numero \"))\n",
        "numero2=int(input(\"Introduce el segundo numero \"))\n",
        "numero3=int(input(\"Introduce el tercer numero \"))\n",
        "\n",
        "if numero1>=numero2 and numero1>=numero3:\n",
        "  print(numero1,\"Es mayor\")\n",
        "\n",
        "elif numero2>=numero1 and numero2>=numero3:\n",
        "  print(numero2, \"es el mayor\")"
      ],
      "execution_count": null,
      "outputs": [
        {
          "output_type": "stream",
          "text": [
            "Introduce el primer numero1\n",
            "Introduce el segundo numero4\n",
            "Introduce el tercer numero8\n"
          ],
          "name": "stdout"
        }
      ]
    },
    {
      "cell_type": "code",
      "metadata": {
        "colab": {
          "base_uri": "https://localhost:8080/"
        },
        "id": "sA7gHKeMXlb9",
        "outputId": "3d32b4e8-78b1-42e8-ead9-090808e7e13c"
      },
      "source": [
        "print(\"Ingrese el nombre del trabajador\")\n",
        "nombre=str (input())\n",
        "print(\"¿Cuantas horas trabajo esta semana?\",nombre,\":\" )\n",
        "horas=int (input())\n",
        "print(\"¿Cuanto se le paga por hora?:\")\n",
        "sueldoH= float (input())\n",
        "\n",
        "#Evaluar su sueldo\n",
        "\n",
        "if (horas<=40):\n",
        "  pago = horas*sueldoH\n",
        "  print(nombre,\"Su pago total es de $\",pago)\n",
        "\n",
        "else:\n",
        "  extras = horas - 40\n",
        "  pago = 40*sueldoH\n",
        "  pagoFinal = pago + ((extras * sueldoH)*2)\n",
        "  print(nombre,\"Su pago total es de $\",pagoFinal)"
      ],
      "execution_count": null,
      "outputs": [
        {
          "output_type": "stream",
          "text": [
            "Ingrese el nombre del trabajador\n",
            "Eduardo G\n",
            "¿Cuantas horas trabajo esta semana? Eduardo G :\n",
            "25\n",
            "¿Cuanto se le paga por hora?:\n",
            "12\n",
            "Eduardo G Su pago total es de $ 300.0\n"
          ],
          "name": "stdout"
        }
      ]
    },
    {
      "cell_type": "code",
      "metadata": {
        "colab": {
          "base_uri": "https://localhost:8080/"
        },
        "id": "RhxJfHt5jIzU",
        "outputId": "4f5009f2-c30d-49e9-808f-038f23041cc4"
      },
      "source": [
        "print(\"Ingrese el nombre del trabjador\")\n",
        "nombre=input()\n",
        "print(\"Cuantas horas trabajo esta semana\", nombre, \":\")\n",
        "horas=int(input())\n",
        "print(\"Cuanto se paga por hora?:\")\n",
        "sueldoH=float(input())\n",
        "\n",
        "#Evaluar el sueldo\n",
        "\n",
        "if(horas<=40):\n",
        "  pago=horas*sueldoH\n",
        "  print(\"El sueldo de\",nombre,\"es $\", pago)\n",
        "\n",
        "elif(horas>40 and horas <=50):\n",
        "  extrasDobles=horas-40\n",
        "  print(\"Horas extras:\",extrasDobles)\n",
        "  pago=40*sueldoH\n",
        "  print(\"Sueldo $\", pago)\n",
        "  pagoDoble=extrasDobles*sueldoH*2\n",
        "  print(\"pago de horas dobles $\", pagoDoble)\n",
        "  pagoFinal=pago+pagoDoble\n",
        "  print(\"El sueldo de\",nombre,\"es $\", pagoFinal)\n",
        "\n",
        "elif ((horas>=51 and horas <=60 )):\n",
        "    extrasTriples=horas-50\n",
        "    print(\"horas extra dobles:10\")\n",
        "    print(\"horas extra triples:\", extrasTriples)\n",
        "    pago=40*sueldoH\n",
        "    print(\"sueldo base: $\", pago)\n",
        "    pagoDoble=10*sueldoH*2\n",
        "    print(\"pago de horas extras dobles:\", pagoDoble)\n",
        "    pagoTriple=extrasTriples*sueldoH*3\n",
        "    print(\"pago de horas extra triples:\" ,pagoTriple)\n",
        "    pagoFinal=pago+pagoDoble+pagoTriple\n",
        "    print(\"El sueldo de\",nombre,\"es $\", pagoFinal)\n",
        "\n",
        "else:\n",
        "  extrasTriples=10\n",
        "  print(\"Horas extra dobles 10\")\n",
        "  print(\"Horas extra triples 10\")\n",
        "  pago= 40*sueldoH\n",
        "  print(\"Sueldo Base\",pago)\n",
        "  pagoDoble=10*sueldoH*2\n",
        "  print(\"pago de horas extra Dobles:\",pagoDoble)\n",
        "  pagoTriple=extrasTriples*sueldoH*3\n",
        "  print(\"Pago de horas extra triples:\", pagoTriple)\n",
        "  print(\"Incentivo por travajar mas de 60 horas:$2000\")\n",
        "  pagoFinal=pago+pagoDoble+pagoTriple+2000\n",
        "  print(\"El sueldo Final de: \",nombre,\"Es $\",pagoFinal)"
      ],
      "execution_count": null,
      "outputs": [
        {
          "output_type": "stream",
          "text": [
            "Ingrese el nombre del trabjador\n",
            "javier\n",
            "Cuantas horas trabajo esta semana javier :\n",
            "40\n",
            "Cuanto se paga por hora?:\n",
            "200\n",
            "El sueldo de javier es $ 8000.0\n"
          ],
          "name": "stdout"
        }
      ]
    },
    {
      "cell_type": "code",
      "metadata": {
        "colab": {
          "base_uri": "https://localhost:8080/"
        },
        "id": "IWBZe9ikmgBO",
        "outputId": "9dc548db-17fe-49bf-be70-03c58fcdb5d3"
      },
      "source": [
        "for estaciones_año in[\"primavera\",\"verano\",\"otoño\",\"invierno\"]:\n",
        "  print(estaciones_año)"
      ],
      "execution_count": null,
      "outputs": [
        {
          "output_type": "stream",
          "text": [
            "primavera\n",
            "verano\n",
            "otoño\n",
            "invierno\n"
          ],
          "name": "stdout"
        }
      ]
    }
  ]
}