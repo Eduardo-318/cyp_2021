{
  "nbformat": 4,
  "nbformat_minor": 0,
  "metadata": {
    "colab": {
      "name": "12deEnero_CyP.ipynb",
      "provenance": [],
      "authorship_tag": "ABX9TyNG9XoY6fEfxSD3Lmd/VDlk",
      "include_colab_link": true
    },
    "kernelspec": {
      "name": "python3",
      "display_name": "Python 3"
    }
  },
  "cells": [
    {
      "cell_type": "markdown",
      "metadata": {
        "id": "view-in-github",
        "colab_type": "text"
      },
      "source": [
        "<a href=\"https://colab.research.google.com/github/Eduardo-318/cyp_2021/blob/main/12deEnero_CyP.ipynb\" target=\"_parent\"><img src=\"https://colab.research.google.com/assets/colab-badge.svg\" alt=\"Open In Colab\"/></a>"
      ]
    },
    {
      "cell_type": "markdown",
      "metadata": {
        "id": "sGJHZq0GqveC"
      },
      "source": [
        "#Introduccion a Python\r\n",
        "-Creado en los 90´s por Guidio Van R.\r\n",
        "- En el 2000 pytohn mejora y tienen nuevas caracteristicas\r\n",
        "- En el 2020 deja de ser la version ofcial Python 2.7 y solo se le dara soport a Python 3 en adelante\r\n",
        "\r\n",
        "## Caracteristicas de Python \r\n",
        "1. Lenguaje de proposito general\r\n",
        "2. Interpretado y no-compilado\r\n",
        "3. Tipos de datos dinamicos. (numericos,cadena, bool\r\n",
        "4. Lenguaje multip-plataforma\r\n",
        "5. Codigo estructurado por identación"
      ]
    },
    {
      "cell_type": "markdown",
      "metadata": {
        "id": "jfiFe_vMvZq8"
      },
      "source": [
        "if a > 10:\r\n",
        "  print(\"Hola\")\r\n",
        "print(\"Hola dos\")"
      ]
    },
    {
      "cell_type": "markdown",
      "metadata": {
        "id": "7D2gwZoNvd4s"
      },
      "source": [
        "Principio Zen Python\r\n",
        "Son las caracteristicas que guia el diseño del lenguaje de programación de Python"
      ]
    },
    {
      "cell_type": "code",
      "metadata": {
        "colab": {
          "base_uri": "https://localhost:8080/"
        },
        "id": "TmFUwTuTuzVN",
        "outputId": "974b0cb2-671d-4528-f7b7-118f03c498ae"
      },
      "source": [
        "#primer programa en Python 3\r\n",
        "\r\n",
        "nombre= \"Jose\"\r\n",
        "edad= 18\r\n",
        "print(\"Hola\", nombre, edad)"
      ],
      "execution_count": 3,
      "outputs": [
        {
          "output_type": "stream",
          "text": [
            "Hola Jose 18\n"
          ],
          "name": "stdout"
        }
      ]
    },
    {
      "cell_type": "markdown",
      "metadata": {
        "id": "-wXSg2X5waU8"
      },
      "source": [
        "2. Con signos\r\n",
        "3. format()\r\n",
        "4. el operador f\r\n",
        "###Con comas\r\n",
        "Concatena los argumentos enviados a print y les agrega un espacio\r\n",
        "\r\n",
        "###Con signos +\r\n",
        "Concatena los valores sin espacio y sin hacer la conversion de tipos\r\n",
        "\r\n",
        "###Con la funcion format()\r\n",
        "''Permite darle un formato a la salida de la impresion de variables. Emplea la función fromat de el tipo de dato String.\r\n",
        "\r\n",
        "#\"cadena {} a {} formatear\". format(v1,v2,vn)\r\n",
        "Emplea comodines para sustituir valores los signos de {}.\r\n",
        "\r\n",
        "#Con el operdador f\"\"\r\n",
        "\r\n",
        "Es una variante de la fomra anterios pero enmascarando la funcion format()\r\n",
        "print(f' asadasdad{var} adasdasda{var2}asdasda{varn}')\r\n"
      ]
    },
    {
      "cell_type": "code",
      "metadata": {
        "colab": {
          "base_uri": "https://localhost:8080/"
        },
        "id": "eoQTEAzIwvRU",
        "outputId": "fada542c-2b16-4a15-99b3-681a82a3430c"
      },
      "source": [
        "print(\"Hola\", nombre, edad )\r\n",
        "print(\"Hola\"+ nombre + str(edad))\r\n",
        "print(\"Nombre:\", nombre, \"con una edad de:\", edad, \"años\")\r\n",
        "print(\"Nombre:\", nombre, \"con una edad de:\", str(edad), \"años\")\r\n",
        "#con format{}\r\n",
        "print(\"Nombre: {1} con una edad de: {0} años\".format(nombre,edad))\r\n",
        "print(f\"Nombre: {nombre} con una edad de: {edad} años.\")\r\n"
      ],
      "execution_count": 10,
      "outputs": [
        {
          "output_type": "stream",
          "text": [
            "Hola Jose 18\n",
            "HolaJose18\n",
            "Nombre: Jose con una edad de: 18 años\n",
            "Nombre: Jose con una edad de: 18 años\n",
            "Nombre: 18 con una edad de: Jose años\n",
            "Nombre: Jose con una edad de: 18 años.\n"
          ],
          "name": "stdout"
        }
      ]
    },
    {
      "cell_type": "markdown",
      "metadata": {
        "id": "il06pqkI3TLh"
      },
      "source": [
        "#Funcion print() y los caracteres de escape\r\n",
        "- \\n salto de linea\r\n",
        "- \\t tabulador\r\n",
        "- \\\\imprimir en diagonal\\\r\n",
        "- \\' y \\\"\r\n",
        "- \\uxxxx\r\n",
        "- \\uxxxxxxx\r\n"
      ]
    },
    {
      "cell_type": "code",
      "metadata": {
        "colab": {
          "base_uri": "https://localhost:8080/"
        },
        "id": "iX9OZhQX2lxI",
        "outputId": "94a10a25-a0d9-44ca-b2d8-bd0ae125beac"
      },
      "source": [
        "print('\"')\r\n",
        "print(\"\\\"\")\r\n",
        "print(\"Nombre: José\\n\\tcon una edad de: 18 años\")\r\n",
        "#caracteres unicode\r\n",
        "\r\n",
        "print(\"Hola \\u553F\")"
      ],
      "execution_count": 16,
      "outputs": [
        {
          "output_type": "stream",
          "text": [
            "\"\n",
            "\"\n",
            "Nombre: José\n",
            "\tcon una edad de: 18 años\n",
            "Hola 唿\n"
          ],
          "name": "stdout"
        }
      ]
    },
    {
      "cell_type": "markdown",
      "metadata": {
        "id": "Knjtijqa8COt"
      },
      "source": [
        "# print y salto de línea en el argumento.\r\n",
        "\r\n",
        "print([lista de variables], end=\"\\n\")"
      ]
    },
    {
      "cell_type": "code",
      "metadata": {
        "colab": {
          "base_uri": "https://localhost:8080/"
        },
        "id": "Pppp6FJc8TyI",
        "outputId": "fcf858fe-9704-46d8-b7ae-9814d57a03ce"
      },
      "source": [
        "print(\"hola \")\r\n",
        "print(\"mundo\")\r\n",
        "print(\"Fin\")"
      ],
      "execution_count": 17,
      "outputs": [
        {
          "output_type": "stream",
          "text": [
            "hola \n",
            "mundo\n",
            "Fin\n"
          ],
          "name": "stdout"
        }
      ]
    },
    {
      "cell_type": "markdown",
      "metadata": {
        "id": "Kpyq2bcP9_M4"
      },
      "source": [
        "#Comentarios en Python\r\n",
        "Un comentario en programación, es un texto especial que ignorado por el compilador"
      ]
    },
    {
      "cell_type": "code",
      "metadata": {
        "colab": {
          "base_uri": "https://localhost:8080/"
        },
        "id": "92L6x0JY-tg5",
        "outputId": "fc55d8e6-fc0f-4ca9-d12c-686000f8aa47"
      },
      "source": [
        "print(\"Hola\")\r\n",
        "#print(\"Hola\")\r\n",
        "#cualquier cosa\r\n",
        "print(\"Hola\")\r\n",
        "print(\"Hola\")#esta line imprime hola\r\n",
        "print(\"Hola\")\r\n",
        "print(\"Hola\")\r\n",
        "\"\"\"\r\n",
        "Esto es un comentario de múltiple línea. Ideal\r\n",
        "para cuando se desea explicar algo a fondo que requiera mayor detalles\r\n",
        "\"\"\"\r\n",
        "print(\"Hola\")\r\n",
        "print(\"Hola\")"
      ],
      "execution_count": 18,
      "outputs": [
        {
          "output_type": "stream",
          "text": [
            "Hola\n",
            "Hola\n",
            "Hola\n",
            "Hola\n",
            "Hola\n",
            "Hola\n",
            "Hola\n"
          ],
          "name": "stdout"
        }
      ]
    }
  ]
}