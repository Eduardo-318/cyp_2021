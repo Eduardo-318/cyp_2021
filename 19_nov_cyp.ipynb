{
  "nbformat": 4,
  "nbformat_minor": 0,
  "metadata": {
    "colab": {
      "name": "19_nov_cyp.ipynb",
      "provenance": [],
      "authorship_tag": "ABX9TyNYhp4cPXhRuIvyHXku9ghE",
      "include_colab_link": true
    },
    "kernelspec": {
      "name": "python3",
      "display_name": "Python 3"
    }
  },
  "cells": [
    {
      "cell_type": "markdown",
      "metadata": {
        "id": "view-in-github",
        "colab_type": "text"
      },
      "source": [
        "<a href=\"https://colab.research.google.com/github/Eduardo-318/cyp_2021/blob/main/19_nov_cyp.ipynb\" target=\"_parent\"><img src=\"https://colab.research.google.com/assets/colab-badge.svg\" alt=\"Open In Colab\"/></a>"
      ]
    },
    {
      "cell_type": "code",
      "metadata": {
        "colab": {
          "base_uri": "https://localhost:8080/"
        },
        "id": "oVwHAlP1lC9Q",
        "outputId": "af3062b3-bed7-4a82-892d-c6d644088102"
      },
      "source": [
        "I=0\n",
        "I=I+1\n",
        "I=I+1\n",
        "print (f\"I={I}\")\n",
        "J=5**2/3\n",
        "\n",
        "print(f\"J={J}\")"
      ],
      "execution_count": 2,
      "outputs": [
        {
          "output_type": "stream",
          "text": [
            "I=2\n",
            "J=8.333333333333334\n"
          ],
          "name": "stdout"
        }
      ]
    },
    {
      "cell_type": "code",
      "metadata": {
        "colab": {
          "base_uri": "https://localhost:8080/"
        },
        "id": "jJwKp2IrnjoD",
        "outputId": "91839276-7569-49dc-c4f4-9e2901e58e06"
      },
      "source": [
        "A = 0\n",
        "B = 0\n",
        "C = 0\n",
        "D = 0\n",
        "A=int(input(\"Dame un valor entero:\"))\n",
        "B=int(input(\"Dame un valor entero:\"))\n",
        "C=int(input(\"Dame un valor entero:\"))\n",
        "D=int(input(\"Dame un valor entero:\"))\n",
        "\n",
        "print(D)\n",
        "print(C)\n",
        "print(B)\n",
        "print(A)"
      ],
      "execution_count": 4,
      "outputs": [
        {
          "output_type": "stream",
          "text": [
            "Dame un valor entero:12\n",
            "Dame un valor entero:12\n",
            "Dame un valor entero:12\n",
            "Dame un valor entero:12\n",
            "12\n",
            "12\n",
            "12\n",
            "12\n"
          ],
          "name": "stdout"
        }
      ]
    },
    {
      "cell_type": "code",
      "metadata": {
        "colab": {
          "base_uri": "https://localhost:8080/"
        },
        "id": "fKH7QKMhpyo4",
        "outputId": "e6be4bf1-2aac-4b2b-c163-91c4f2a124aa"
      },
      "source": [
        "A=(0)\n",
        "B=(0)\n",
        "A=int(input(\"Dame un entero:\"))\n",
        "B=int(input(\"Dame otro entero:\"))\n",
        "RES=(A+B)**2/3\n",
        "print(RES)"
      ],
      "execution_count": 5,
      "outputs": [
        {
          "output_type": "stream",
          "text": [
            "Dame un entero:5\n",
            "Dame otro entero:6\n",
            "40.333333333333336\n"
          ],
          "name": "stdout"
        }
      ]
    },
    {
      "cell_type": "code",
      "metadata": {
        "colab": {
          "base_uri": "https://localhost:8080/"
        },
        "id": "IGfKdqvivCHJ",
        "outputId": "8a3b5574-6434-4bc4-fc95-e1b196a507fb"
      },
      "source": [
        "MAT=0\n",
        "CAL1=0\n",
        "CAL2=0\n",
        "CAL3=0\n",
        "CAL4=0\n",
        "CAL5=0\n",
        "PRO=0.0\n",
        "\n",
        "MAT=int(input(\"Dame la matrícula:\"))\n",
        "CAL1=float(input(\"Dame la calificación 1:\"))\n",
        "CAL2=float(input(\"Dame la calificación 2:\"))\n",
        "CAL3=float(input(\"Dame la calificación 3:\"))\n",
        "CAL4=float(input(\"Dame la calificación 4:\"))\n",
        "CAL5=float(input(\"Dame la calificación 5:\"))\n",
        "\n",
        "PRO=(CAL1+CAL2+CAL3+CAL4+CAL5)/5\n",
        "print(MAT,PRO)"
      ],
      "execution_count": 7,
      "outputs": [
        {
          "output_type": "stream",
          "text": [
            "Dame la matrícula:41343\n",
            "Dame la calificación 1:8\n",
            "Dame la calificación 2:8.5\n",
            "Dame la calificación 3:9\n",
            "Dame la calificación 4:7\n",
            "Dame la calificación 5:6\n",
            "41343 7.7\n"
          ],
          "name": "stdout"
        }
      ]
    },
    {
      "cell_type": "code",
      "metadata": {
        "colab": {
          "base_uri": "https://localhost:8080/"
        },
        "id": "HRszwtNJy4IS",
        "outputId": "cce99db9-538e-42eb-a542-09d4ed6301b1"
      },
      "source": [
        "NUM = 0\n",
        "CUA = 0\n",
        "CUB = 0\n",
        "\n",
        "NUM = int(input(\"Dame un numero entero: \"))\n",
        "\n",
        "CUA = NUM ** 2\n",
        "CUB = NUM ** 3\n",
        "\n",
        "print(\"El cuadrado de \", NUM, \" es \", CUA, \" y su cubo es \", CUB)"
      ],
      "execution_count": 10,
      "outputs": [
        {
          "output_type": "stream",
          "text": [
            "Dame un numero entero: 7\n",
            "El cuadrado de  7  es  49  y su cubo es  343\n"
          ],
          "name": "stdout"
        }
      ]
    },
    {
      "cell_type": "code",
      "metadata": {
        "colab": {
          "base_uri": "https://localhost:8080/"
        },
        "id": "2psV1RHR2HPj",
        "outputId": "9c96c111-958d-4f24-b300-ebca675fc7ce"
      },
      "source": [
        "base=0\n",
        "altura=0\n",
        "area=0\n",
        "per=0\n",
        "\n",
        "base=float(input(\"Ingresa la base:\"))\n",
        "altura=float(input(\"Ingresa la altura\"))\n",
        "area=(base*altura)\n",
        "per=(2*base)+(2*altura)\n",
        "\n",
        "print(f\"el área es {area}\")\n",
        "print(f\"El perímetro es {per}\")"
      ],
      "execution_count": 11,
      "outputs": [
        {
          "output_type": "stream",
          "text": [
            "Ingresa la base:14.5\n",
            "Ingresa la altura54.3\n",
            "el área es 787.3499999999999\n",
            "El perímetro es 137.6\n"
          ],
          "name": "stdout"
        }
      ]
    }
  ]
}