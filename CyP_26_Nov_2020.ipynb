{
  "nbformat": 4,
  "nbformat_minor": 0,
  "metadata": {
    "colab": {
      "name": "CyP_26_Nov_2020.ipynb",
      "provenance": [],
      "authorship_tag": "ABX9TyPEP0iZM2cAQYKpRtaYpOx2",
      "include_colab_link": true
    },
    "kernelspec": {
      "name": "python3",
      "display_name": "Python 3"
    }
  },
  "cells": [
    {
      "cell_type": "markdown",
      "metadata": {
        "id": "view-in-github",
        "colab_type": "text"
      },
      "source": [
        "<a href=\"https://colab.research.google.com/github/Eduardo-318/cyp_2021/blob/main/CyP_26_Nov_2020.ipynb\" target=\"_parent\"><img src=\"https://colab.research.google.com/assets/colab-badge.svg\" alt=\"Open In Colab\"/></a>"
      ]
    },
    {
      "cell_type": "code",
      "metadata": {
        "colab": {
          "base_uri": "https://localhost:8080/"
        },
        "id": "pqsheeESlAK7",
        "outputId": "803674ab-98b4-498f-927e-eb19419420d1"
      },
      "source": [
        "if(True):\n",
        "  print(\"la condicion se cumple\")\n",
        "  print(\"Termina el programa\")\n",
        "  "
      ],
      "execution_count": 1,
      "outputs": [
        {
          "output_type": "stream",
          "text": [
            "la condicion se cumple\n",
            "Termina el programa\n"
          ],
          "name": "stdout"
        }
      ]
    },
    {
      "cell_type": "code",
      "metadata": {
        "colab": {
          "base_uri": "https://localhost:8080/"
        },
        "id": "fjbmT3hHo0ye",
        "outputId": "8cbc43ad-9ce9-4daf-8b60-2ac0eefffb59"
      },
      "source": [
        "if(5>3):\n",
        "  print(\"La condicion es verdadera\")\n",
        "\n",
        "  print(\"Termina el programa\")"
      ],
      "execution_count": 18,
      "outputs": [
        {
          "output_type": "stream",
          "text": [
            "La condicion es verdadera\n",
            "Termina el programa\n"
          ],
          "name": "stdout"
        }
      ]
    },
    {
      "cell_type": "code",
      "metadata": {
        "colab": {
          "base_uri": "https://localhost:8080/"
        },
        "id": "48GZNFEXpBww",
        "outputId": "895f0151-df48-45c8-8fb8-42e52b0bf976"
      },
      "source": [
        "cal=float(input(\"¿Cuál es tu calificación?\"))\n",
        "if(cal>8):\n",
        "  print(\"Aprobado\")\n",
        "else:print(\"Reprobado\")"
      ],
      "execution_count": 11,
      "outputs": [
        {
          "output_type": "stream",
          "text": [
            "¿Cuál es tu calificación?8.1\n",
            "Aprobado\n"
          ],
          "name": "stdout"
        }
      ]
    },
    {
      "cell_type": "code",
      "metadata": {
        "colab": {
          "base_uri": "https://localhost:8080/"
        },
        "id": "kCE-2ZlWsj8y",
        "outputId": "2a27b409-08dd-4b79-946c-1795e45b5ab8"
      },
      "source": [
        "sueldo=float(input(\"Sueldo: \"))\n",
        "if sueldo < 1000.0:\n",
        "  sueldo+=(sueldo*0.15)\n",
        "  print(f\"Sueldo:{sueldo}\")"
      ],
      "execution_count": 21,
      "outputs": [
        {
          "output_type": "stream",
          "text": [
            "Sueldo: 900\n",
            "Sueldo:1035.0\n"
          ],
          "name": "stdout"
        }
      ]
    }
  ]
}