{
  "nbformat": 4,
  "nbformat_minor": 0,
  "metadata": {
    "colab": {
      "name": "5enero_CyP.ipynb",
      "provenance": [],
      "authorship_tag": "ABX9TyN7J3Z7GNs8P7p7LH/hGqhy",
      "include_colab_link": true
    },
    "kernelspec": {
      "name": "python3",
      "display_name": "Python 3"
    }
  },
  "cells": [
    {
      "cell_type": "markdown",
      "metadata": {
        "id": "view-in-github",
        "colab_type": "text"
      },
      "source": [
        "<a href=\"https://colab.research.google.com/github/Eduardo-318/cyp_2021/blob/main/5enero_CyP.ipynb\" target=\"_parent\"><img src=\"https://colab.research.google.com/assets/colab-badge.svg\" alt=\"Open In Colab\"/></a>"
      ]
    },
    {
      "cell_type": "code",
      "metadata": {
        "colab": {
          "base_uri": "https://localhost:8080/"
        },
        "id": "z_-98OfSjFlG",
        "outputId": "4ae2a1ab-00ee-4c79-dfb2-7498b83e198c"
      },
      "source": [
        "sueldos= [0.0 for x in range (7)]\r\n",
        "print(sueldos)\r\n",
        "sueldos[0]=12.3\r\n",
        "sueldos[1]=32.3\r\n",
        "sueldos[2]=52.3\r\n",
        "sueldos[3]=12.3\r\n",
        "sueldos[4]=82.3\r\n",
        "sueldos[5]=91.3\r\n",
        "sueldos[6]=24.3\r\n",
        "print(sueldos)"
      ],
      "execution_count": 4,
      "outputs": [
        {
          "output_type": "stream",
          "text": [
            "[0.0, 0.0, 0.0, 0.0, 0.0, 0.0, 0.0]\n",
            "[12.3, 32.3, 52.3, 12.3, 82.3, 91.3, 24.3]\n"
          ],
          "name": "stdout"
        }
      ]
    },
    {
      "cell_type": "code",
      "metadata": {
        "colab": {
          "base_uri": "https://localhost:8080/"
        },
        "id": "_NOe63GYluEJ",
        "outputId": "ef1e9e4f-9ffc-43b6-cd58-a43e427716cb"
      },
      "source": [
        "sueldo = [float(x) for x in range(1, 8)]\r\n",
        "sueldo = []\r\n",
        "for i in range(0, 7):\r\n",
        "    sueldo.append(float(i + 1))\r\n",
        "for i in sueldo:\r\n",
        "    print(i)\r\n",
        "\r\n",
        "sueldos = [0.0 for x in range(7)]\r\n",
        "print(sueldos)\r\n",
        "i= 0\r\n",
        "nue_valor= 1.0\r\n",
        "for i in range(7):\r\n",
        "  sueldos[i]= nue_valor\r\n",
        "  nue_valor= nue_valor + 1\r\n",
        "  i= i + 1\r\n",
        "print(sueldos)"
      ],
      "execution_count": 9,
      "outputs": [
        {
          "output_type": "stream",
          "text": [
            "1.0\n",
            "2.0\n",
            "3.0\n",
            "4.0\n",
            "5.0\n",
            "6.0\n",
            "7.0\n",
            "[0.0, 0.0, 0.0, 0.0, 0.0, 0.0, 0.0]\n",
            "[1.0, 2.0, 3.0, 4.0, 5.0, 6.0, 7.0]\n"
          ],
          "name": "stdout"
        }
      ]
    },
    {
      "cell_type": "code",
      "metadata": {
        "colab": {
          "base_uri": "https://localhost:8080/"
        },
        "id": "VANRRpsoovoJ",
        "outputId": "32ea5145-6afc-4081-aeec-ff2057ebc21d"
      },
      "source": [
        "#problema 4.1\r\n",
        "MAXIMO  = 7\r\n",
        "sueldos = [0.0 for x in range(MAXIMO)]\r\n",
        "SUMA = 0.0\r\n",
        "PROM = 0.0\r\n",
        "\r\n",
        "for i in range(MAXIMO):\r\n",
        "  sueldos[i] = float (input(\"Dame el sueldo: \"))\r\n",
        "\r\n",
        "for i in range(MAXIMO):\r\n",
        "  print(f\"Trabajador {i + 1}, gana {sueldos[i]}\") \r\n",
        "\r\n",
        "for i in range(MAXIMO):\r\n",
        "  SUMA = SUMA + sueldos[i]\r\n",
        "PROM = SUMA / MAXIMO\r\n",
        "print(f\"El promedio de sueldo es {PROM}\")\r\n",
        "\r\n",
        "for i in range(MAXIMO):\r\n",
        "  if sueldos[i] > PROM:\r\n",
        "    print(f\"El trabajador {i + 1} tiene un sueldo mayor al promedio\")"
      ],
      "execution_count": 26,
      "outputs": [
        {
          "output_type": "stream",
          "text": [
            "Dame el sueldo: 4\n",
            "Dame el sueldo: 5\n",
            "Dame el sueldo: 4\n",
            "Dame el sueldo: 5\n",
            "Dame el sueldo: 4\n",
            "Dame el sueldo: 5\n",
            "Dame el sueldo: 4\n",
            "Trabajador 1, gana 4.0\n",
            "Trabajador 2, gana 5.0\n",
            "Trabajador 3, gana 4.0\n",
            "Trabajador 4, gana 5.0\n",
            "Trabajador 5, gana 4.0\n",
            "Trabajador 6, gana 5.0\n",
            "Trabajador 7, gana 4.0\n",
            "El promedio de sueldo es 4.428571428571429\n",
            "El trabajador 2 tiene un sueldo mayor al promedio\n",
            "El trabajador 4 tiene un sueldo mayor al promedio\n",
            "El trabajador 6 tiene un sueldo mayor al promedio\n"
          ],
          "name": "stdout"
        }
      ]
    },
    {
      "cell_type": "code",
      "metadata": {
        "colab": {
          "base_uri": "https://localhost:8080/"
        },
        "id": "00cRqG_fstBe",
        "outputId": "25752b61-dd76-49eb-d95b-ef3c3352b9c3"
      },
      "source": [
        "#HACER UN PROGRAMA QUE SOLICITE 5 VALORES ENTEROS POSITIVOS Y\r\n",
        "# UNA VEZ QUE SE CAPTUREN POR TECLADO, EL PROGRAMA DETERMINE\r\n",
        "# 1.-CUAL ES EL MAYOR\r\n",
        "# 2.- CUAL ES EL MENOR\r\n",
        "# 3.- CUAL ES EL PROMEDIO\r\n",
        "MAY = 0\r\n",
        "MEN = 1000000000\r\n",
        "RAN=5\r\n",
        "sum= 0\r\n",
        "valores = [ 0 for x in range(RAN)]\r\n",
        "\r\n",
        "for i in range(RAN):\r\n",
        "  valores[i] = float(input(\"DAME EL SUELDO: \"))\r\n",
        "  if (valores[i] > MAY):\r\n",
        "    MAY = valores [i]\r\n",
        "  elif (valores[i < MEN]):\r\n",
        "    MEN = valores [i]\r\n",
        "  sum += valores[i]\r\n",
        "promedio = sum/RAN \r\n",
        "\r\n",
        "print(f\"MAYOR VALOR: {MAY}\")\r\n",
        "print(f\"MENOR VALOR: {MEN}\")\r\n",
        "print(f\"PROMEDIO: {promedio}\")"
      ],
      "execution_count": 27,
      "outputs": [
        {
          "output_type": "stream",
          "text": [
            "DAME EL SUELDO: 5\n",
            "DAME EL SUELDO: 43\n",
            "DAME EL SUELDO: 76\n",
            "DAME EL SUELDO: 234\n",
            "DAME EL SUELDO: 7\n",
            "MAYOR VALOR: 234.0\n",
            "MENOR VALOR: 7.0\n",
            "PROMEDIO: 73.0\n"
          ],
          "name": "stdout"
        }
      ]
    },
    {
      "cell_type": "code",
      "metadata": {
        "colab": {
          "base_uri": "https://localhost:8080/"
        },
        "id": "QkOj0bAhxADU",
        "outputId": "42971008-080b-4465-cb7b-cadf9f28951b"
      },
      "source": [
        "#problema 4.1\r\n",
        "N= int(input(\"Ingrese el número de elementos del arreglo: \"))\r\n",
        "vec=[]\r\n",
        "if 1 <= N and N <=500:\r\n",
        "  vec=[0 for x in range(N)]\r\n",
        "  for I in range(N):\r\n",
        "    vec[I]= int(input(\"Ingrese valor \" +str(I +1) + \":\"))\r\n",
        "  print(\"Lista de números sin repeticiones\")\r\n",
        "  I= 0\r\n",
        "  while I < N:\r\n",
        "    print(vec[I])\r\n",
        "    repet=vec[I]\r\n",
        "    while I < N and repet == vec[I]:\r\n",
        "        I= I + 1\r\n",
        "else:\r\n",
        "  print(\"El número de elementos del arreglo es incorrecto\")\r\n"
      ],
      "execution_count": 38,
      "outputs": [
        {
          "output_type": "stream",
          "text": [
            "Ingrese el número de elementos del arreglo: 10\n",
            "Ingrese valor 1:2\n",
            "Ingrese valor 2:3\n",
            "Ingrese valor 3:3\n",
            "Ingrese valor 4:3\n",
            "Ingrese valor 5:10\n",
            "Ingrese valor 6:20\n",
            "Ingrese valor 7:20\n",
            "Ingrese valor 8:40\n",
            "Ingrese valor 9:43\n",
            "Ingrese valor 10:41\n",
            "Lista de números sin repeticiones\n",
            "2\n",
            "3\n",
            "10\n",
            "20\n",
            "40\n",
            "43\n",
            "41\n"
          ],
          "name": "stdout"
        }
      ]
    }
  ]
}