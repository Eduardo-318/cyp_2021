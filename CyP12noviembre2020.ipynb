{
  "nbformat": 4,
  "nbformat_minor": 0,
  "metadata": {
    "colab": {
      "name": "CyP12noviembre2020.ipynb",
      "provenance": [],
      "authorship_tag": "ABX9TyNBQE4BKSB0D6Cd/8qqXHj5",
      "include_colab_link": true
    },
    "kernelspec": {
      "name": "python3",
      "display_name": "Python 3"
    }
  },
  "cells": [
    {
      "cell_type": "markdown",
      "metadata": {
        "id": "view-in-github",
        "colab_type": "text"
      },
      "source": [
        "<a href=\"https://colab.research.google.com/github/Eduardo-318/cyp_2021/blob/main/CyP12noviembre2020.ipynb\" target=\"_parent\"><img src=\"https://colab.research.google.com/assets/colab-badge.svg\" alt=\"Open In Colab\"/></a>"
      ]
    },
    {
      "cell_type": "code",
      "metadata": {
        "id": "UXAEFPe1pX6e",
        "outputId": "3cb50573-58a6-464c-d45a-719822f8f8b8",
        "colab": {
          "base_uri": "https://localhost:8080/"
        }
      },
      "source": [
        "#Ejemplo 1\n",
        "numero= int(input(\"Dame un número:\"))\n",
        "if numero >0:\n",
        "  print(\"El número es positivo\")\n",
        "print (\"Fin del programa\")"
      ],
      "execution_count": 15,
      "outputs": [
        {
          "output_type": "stream",
          "text": [
            "Dame un numero:4\n",
            "El numero es positivo\n",
            "Fin del programa\n"
          ],
          "name": "stdout"
        }
      ]
    },
    {
      "cell_type": "code",
      "metadata": {
        "id": "EF0Fsbv3q7BB",
        "outputId": "92c58019-d6a2-491e-e0e9-9be5b6e4f19d",
        "colab": {
          "base_uri": "https://localhost:8080/"
        }
      },
      "source": [
        "#ejemplo 2\n",
        "numero= int(input(\"Dmae un número:\"))\n",
        "if numero >0:\n",
        "  print(\"El número es positivo\")\n",
        "else:\n",
        "  print(\"El número es negativo\")"
      ],
      "execution_count": 17,
      "outputs": [
        {
          "output_type": "stream",
          "text": [
            "Dmae un número:-5\n",
            "El número es negativo\n"
          ],
          "name": "stdout"
        }
      ]
    },
    {
      "cell_type": "code",
      "metadata": {
        "id": "dC1IMpxUrb3R",
        "outputId": "37016f29-e262-4d33-ade6-4832023ede40",
        "colab": {
          "base_uri": "https://localhost:8080/"
        }
      },
      "source": [
        "#Ejemplo 3\n",
        "numero=int(input(\"Digita un número:\"))\n",
        "if numero >0 :\n",
        "  print(\"El número es positivo\")\n",
        "elif numero==0:\n",
        "    print(\"El número es cero\")\n",
        "else:\n",
        "  print(\"El número es negativo\")\n",
        "\n",
        "print(\"Fin del programa\")"
      ],
      "execution_count": 25,
      "outputs": [
        {
          "output_type": "stream",
          "text": [
            "Digita un número:789\n",
            "El número es positivo\n",
            "Fin del programa\n"
          ],
          "name": "stdout"
        }
      ]
    }
  ]
}