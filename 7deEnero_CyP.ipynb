{
  "nbformat": 4,
  "nbformat_minor": 0,
  "metadata": {
    "colab": {
      "name": "7deEnero_CyP.ipynb",
      "provenance": [],
      "authorship_tag": "ABX9TyPP7swaV67RVj5Uu6Qar2br",
      "include_colab_link": true
    },
    "kernelspec": {
      "name": "python3",
      "display_name": "Python 3"
    }
  },
  "cells": [
    {
      "cell_type": "markdown",
      "metadata": {
        "id": "view-in-github",
        "colab_type": "text"
      },
      "source": [
        "<a href=\"https://colab.research.google.com/github/Eduardo-318/cyp_2021/blob/main/7deEnero_CyP.ipynb\" target=\"_parent\"><img src=\"https://colab.research.google.com/assets/colab-badge.svg\" alt=\"Open In Colab\"/></a>"
      ]
    },
    {
      "cell_type": "code",
      "metadata": {
        "colab": {
          "base_uri": "https://localhost:8080/"
        },
        "id": "oJ0NnuD24bU3",
        "outputId": "b3649c4e-cbfe-4472-b62a-3659d3e557e2"
      },
      "source": [
        "REN = 3\r\n",
        "COL = 5\r\n",
        "VEC =[[ 0 for x in range(COL)] for x in range(REN)]\r\n",
        "print(VEC)\r\n",
        "VEC[1][2]=15\r\n",
        "print(VEC)\r\n",
        "\r\n",
        "print(\"Automaizar el recorrido del arreglo\")\r\n",
        "for i in range(REN):\r\n",
        "  for j in range(COL):\r\n",
        "    print (f\"{i},{j} = {VEC[i][j]}\")\r\n"
      ],
      "execution_count": null,
      "outputs": [
        {
          "output_type": "stream",
          "text": [
            "[[0, 0, 0, 0, 0], [0, 0, 0, 0, 0], [0, 0, 0, 0, 0]]\n",
            "[[0, 0, 0, 0, 0], [0, 0, 15, 0, 0], [0, 0, 0, 0, 0]]\n",
            "Automaizar el recorrido del arreglo\n",
            "0,0 = 0\n",
            "0,1 = 0\n",
            "0,2 = 0\n",
            "0,3 = 0\n",
            "0,4 = 0\n",
            "1,0 = 0\n",
            "1,1 = 0\n",
            "1,2 = 15\n",
            "1,3 = 0\n",
            "1,4 = 0\n",
            "2,0 = 0\n",
            "2,1 = 0\n",
            "2,2 = 0\n",
            "2,3 = 0\n",
            "2,4 = 0\n"
          ],
          "name": "stdout"
        }
      ]
    },
    {
      "cell_type": "code",
      "metadata": {
        "id": "2-JD55JRFD0v"
      },
      "source": [
        "estados= int (input(\"Cuantos estados son?: \"))\r\n",
        "lluvias_men_est= [ [0 for x in range(12)] for x in range(estados )]\r\n",
        "print(lluvias_men_est)\r\n",
        "for i in range(estados):\r\n",
        "  for j in range(12):\r\n",
        "    mensaje=\"Dame el valor del estado \"+ str(i+1)+ \" del mes \" + str(j+1)+\":\"\r\n",
        "    aux=int(input(mensaje))\r\n",
        "    lluvias_men_est[i][j]=aux\r\n",
        "\r\n",
        "print(lluvias_men_est)\r\n",
        "\r\n",
        "print(\"Promedio de lluvias en los estados: \")\r\n",
        "suma=0\r\n",
        "for i in range(estados):\r\n",
        "  suma=0\r\n",
        "  for j in range(12):\r\n",
        "    suma= suma+ lluvias_men_est[i][j]\r\n",
        "    print(f\"El promedio de lluvias anual en el estado {i+1} es {suma/12} \")"
      ],
      "execution_count": null,
      "outputs": []
    }
  ]
}