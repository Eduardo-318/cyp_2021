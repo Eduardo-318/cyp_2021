{
  "nbformat": 4,
  "nbformat_minor": 0,
  "metadata": {
    "colab": {
      "name": "Tarea_5.ipynb",
      "provenance": [],
      "authorship_tag": "ABX9TyPY3tAXBwVJE28bsINe5iub",
      "include_colab_link": true
    },
    "kernelspec": {
      "name": "python3",
      "display_name": "Python 3"
    }
  },
  "cells": [
    {
      "cell_type": "markdown",
      "metadata": {
        "id": "view-in-github",
        "colab_type": "text"
      },
      "source": [
        "<a href=\"https://colab.research.google.com/github/Eduardo-318/cyp_2021/blob/main/Tarea_5.ipynb\" target=\"_parent\"><img src=\"https://colab.research.google.com/assets/colab-badge.svg\" alt=\"Open In Colab\"/></a>"
      ]
    },
    {
      "cell_type": "code",
      "metadata": {
        "colab": {
          "base_uri": "https://localhost:8080/"
        },
        "id": "8WaE6XymCANt",
        "outputId": "58e4ad7a-8eba-4275-f34e-be63b19ecc3e"
      },
      "source": [
        "print(\"Ingrese el sueldo del primer trabajador\")\r\n",
        "SUE1=float(input())\r\n",
        "print(\"Ingrese el sueldo del segundo trabajador\")\r\n",
        "SUE2=float(input())\r\n",
        "print(\"Ingrese el sueldo del tercer trabajador\")\r\n",
        "SUE3=float(input())\r\n",
        "print(\"Ingrese el sueldo del cuarto trabajador\")\r\n",
        "SUE4= float(input())\r\n",
        "print(\"Ingrese el sueldo del quinto trabajador\")\r\n",
        "SUE5=float(input())\r\n",
        "print(\"Ingrese el suedlo del sexto trabajador\")\r\n",
        "SUE6= float(input())\r\n",
        "print(\"Ingrese el sueldo del septimo trabajador\")\r\n",
        "SUE7=float(input())\r\n",
        "print(\"Ingrese el sueldo del octavo trabajador\")\r\n",
        "SUE8=float(input())\r\n",
        "print(\"Ingrese el sueldo del noveno trabajador\")\r\n",
        "SUE9=float(input())\r\n",
        "print(\"Ingrese el sueldo del decimo trabajador\")\r\n",
        "SUE10=float(input())\r\n",
        "\r\n",
        "nomina=(SUE1+SUE2+SUE3+SUE4+SUE5+SUE6+SUE7+SUE8+SUE9+SUE10)\r\n",
        "print(\"Nomina total:\",nomina)"
      ],
      "execution_count": 2,
      "outputs": [
        {
          "output_type": "stream",
          "text": [
            "Ingrese el sueldo del primer trabajador\n",
            "9043\n",
            "Ingrese el sueldo del segundo trabajador\n",
            "5\n",
            "Ingrese el sueldo del tercer trabajador\n",
            "4376\n",
            "Ingrese el sueldo del cuarto trabajador\n",
            "8910\n",
            "Ingrese el sueldo del quinto trabajador\n",
            "7843\n",
            "Ingrese el suedlo del sexto trabajador\n",
            "1246\n",
            "Ingrese el sueldo del septimo trabajador\n",
            "5423\n",
            "Ingrese el sueldo del octavo trabajador\n",
            "3189\n",
            "Ingrese el sueldo del noveno trabajador\n",
            "3197\n",
            "Ingrese el sueldo del decimo trabajador\n",
            "5490\n",
            "Nomina total: 48722.0\n"
          ],
          "name": "stdout"
        }
      ]
    }
  ]
}